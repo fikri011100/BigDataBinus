{
 "cells": [
  {
   "cell_type": "code",
   "execution_count": null,
   "metadata": {},
   "outputs": [],
   "source": [
    "import requests\n",
    "\n",
    "import os \n",
    "from PIL import Image\n",
    "from IPython.display import IFrame\n",
    "\n",
    "url='https://www.ibm.com/'\n",
    "r=requests.get(url)\n",
    "\n",
    "r.status_code\n",
    "\n",
    "print(r.request.headers)\n",
    "\n",
    "print(\"request body:\", r.request.body)\n",
    "\n",
    "header=r.headers\n",
    "print(r.headers)\n",
    "\n",
    "header['date']\n",
    "\n",
    "header['Content-Type']\n",
    "\n",
    "r.encoding\n",
    "\n",
    "r.text[0:100]\n",
    "# Use single quotation marks for defining string\n",
    "url='https://gitlab.com/ibm/skills-network/courses/placeholder101/-/raw/master/labs/module%201/images/IDSNlogo.png'"
   ]
  },
  {
   "cell_type": "code",
   "execution_count": null,
   "metadata": {},
   "outputs": [],
   "source": [
    "r=requests.get(url)"
   ]
  },
  {
   "cell_type": "code",
   "execution_count": null,
   "metadata": {},
   "outputs": [],
   "source": [
    "print(r.headers)"
   ]
  },
  {
   "cell_type": "code",
   "execution_count": null,
   "metadata": {},
   "outputs": [],
   "source": [
    "r.headers['Content-Type']"
   ]
  },
  {
   "cell_type": "code",
   "execution_count": null,
   "metadata": {},
   "outputs": [],
   "source": [
    "path=os.path.join(os.getcwd(),'image.png')\n",
    "path"
   ]
  },
  {
   "cell_type": "code",
   "execution_count": null,
   "metadata": {},
   "outputs": [],
   "source": [
    "with open(path,'wb') as f:\n",
    "    f.write(r.content)"
   ]
  },
  {
   "cell_type": "code",
   "execution_count": null,
   "metadata": {},
   "outputs": [],
   "source": [
    "Image.open(path)  "
   ]
  },
  {
   "cell_type": "code",
   "execution_count": null,
   "metadata": {},
   "outputs": [],
   "source": [
    "url_get='http://httpbin.org/get'\n",
    "\n",
    "payload={\"name\":\"Joseph\",\"ID\":\"123\"}\n",
    "\n",
    "r=requests.get(url_get,params=payload)\n",
    "\n",
    "r.url\n",
    "\n",
    "print(\"request body:\", r.request.body)\n",
    "\n",
    "print(r.status_code)\n",
    "\n",
    "print(r.text)\n",
    "\n",
    "r.headers['Content-Type']\n",
    "\n",
    "r.json()\n",
    "\n",
    "r.json()['args']"
   ]
  },
  {
   "cell_type": "code",
   "execution_count": null,
   "metadata": {},
   "outputs": [],
   "source": [
    "url_post='http://httpbin.org/post'\n",
    "\n",
    "r_post=requests.post(url_post,data=payload)\n",
    "\n",
    "print(\"POST request URL:\",r_post.url )\n",
    "print(\"GET request URL:\",r.url)\n",
    "\n",
    "print(\"POST request body:\",r_post.request.body)\n",
    "print(\"GET request body:\",r.request.body)\n",
    "\n",
    "r_post.json()['form']"
   ]
  }
 ],
 "metadata": {
  "language_info": {
   "name": "python"
  },
  "orig_nbformat": 4
 },
 "nbformat": 4,
 "nbformat_minor": 2
}
